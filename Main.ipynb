{
 "cells": [
  {
   "attachments": {},
   "cell_type": "markdown",
   "metadata": {},
   "source": [
    "##### Import the classes"
   ]
  },
  {
   "cell_type": "code",
   "execution_count": null,
   "metadata": {},
   "outputs": [],
   "source": [
    "from Data import Data\n",
    "from ID3 import ID3\n",
    "from Validator import Validator\n",
    "from PerformanceChecker import PerformanceChecker"
   ]
  },
  {
   "attachments": {},
   "cell_type": "markdown",
   "metadata": {},
   "source": [
    "##### Create the dataset based on the training files"
   ]
  },
  {
   "cell_type": "code",
   "execution_count": null,
   "metadata": {},
   "outputs": [],
   "source": [
    "# Create dataset\n",
    "dataset = Data()\n",
    "\n",
    "# Load dataset with training files\n",
    "dataset.load(\"aclImdb/train/neg\", \"aclImdb/train/pos\")"
   ]
  },
  {
   "attachments": {},
   "cell_type": "markdown",
   "metadata": {},
   "source": [
    "##### Remove the 500 most frequent and the 300 rarest words and keeping the 300 most frequent words"
   ]
  },
  {
   "cell_type": "code",
   "execution_count": null,
   "metadata": {},
   "outputs": [],
   "source": [
    "dataset.filter(500, 300, 300)"
   ]
  },
  {
   "attachments": {},
   "cell_type": "markdown",
   "metadata": {},
   "source": [
    "##### Convert each text into a vector of properties with values of 0 or 1, indicating which words from the vocabulary are present in the text"
   ]
  },
  {
   "cell_type": "code",
   "execution_count": null,
   "metadata": {},
   "outputs": [],
   "source": [
    "dataset.convertTrain(\"aclImdb/train/neg\", 0, \"vectors\")\n",
    "dataset.convertTrain(\"aclImdb/train/pos\", 1, \"vectors\")"
   ]
  },
  {
   "attachments": {},
   "cell_type": "markdown",
   "metadata": {},
   "source": [
    "##### Construct the ID3"
   ]
  },
  {
   "cell_type": "code",
   "execution_count": null,
   "metadata": {},
   "outputs": [],
   "source": [
    "id3 = ID3()\n",
    "id3.train(\"vectors/negative.txt\", \"vectors/positive.txt\", \"vocabulary.txt\")\n",
    "id3.build()\n",
    "\n",
    "validator = Validator()"
   ]
  },
  {
   "attachments": {},
   "cell_type": "markdown",
   "metadata": {},
   "source": [
    "##### Classify the positive exam results"
   ]
  },
  {
   "cell_type": "code",
   "execution_count": null,
   "metadata": {},
   "outputs": [],
   "source": [
    "dataset.convertTest(\"aclImdb/test/pos\", \"vectors\")\n",
    "id3.classify(\"vectors/test.txt\")\n",
    "validator.check(\"results.txt\",\"Positive\")"
   ]
  },
  {
   "attachments": {},
   "cell_type": "markdown",
   "metadata": {},
   "source": [
    "##### Classify the negative exam results"
   ]
  },
  {
   "cell_type": "code",
   "execution_count": null,
   "metadata": {},
   "outputs": [],
   "source": [
    "dataset.convertTest(\"aclImdb/test/neg\", \"vectors\")\n",
    "id3.classify(\"vectors/test.txt\")\n",
    "validator.check(\"results.txt\",\"Negative\")"
   ]
  },
  {
   "attachments": {},
   "cell_type": "markdown",
   "metadata": {},
   "source": [
    "##### Evaluate the classification results"
   ]
  },
  {
   "cell_type": "code",
   "execution_count": null,
   "metadata": {},
   "outputs": [],
   "source": [
    "validator.validate()"
   ]
  }
 ],
 "metadata": {
  "kernelspec": {
   "display_name": "Python 3",
   "language": "python",
   "name": "python3"
  },
  "language_info": {
   "codemirror_mode": {
    "name": "ipython",
    "version": 3
   },
   "file_extension": ".py",
   "mimetype": "text/x-python",
   "name": "python",
   "nbconvert_exporter": "python",
   "pygments_lexer": "ipython3",
   "version": "3.10.8 (tags/v3.10.8:aaaf517, Oct 11 2022, 16:50:30) [MSC v.1933 64 bit (AMD64)]"
  },
  "orig_nbformat": 4,
  "vscode": {
   "interpreter": {
    "hash": "40499514d56054aa74f40e00017c03bab87e24cfb10a2469b002d337fb8afb09"
   }
  }
 },
 "nbformat": 4,
 "nbformat_minor": 2
}
